{
  "nbformat": 4,
  "nbformat_minor": 0,
  "metadata": {
    "colab": {
      "name": "Copy of dptoie-colab.ipynb",
      "provenance": [],
      "collapsed_sections": []
    },
    "kernelspec": {
      "name": "python3",
      "display_name": "Python 3"
    },
    "language_info": {
      "name": "python"
    }
  },
  "cells": [
    {
      "cell_type": "markdown",
      "metadata": {
        "id": "asF33PECnS-v"
      },
      "source": [
        "# Download DptOIE and load function"
      ]
    },
    {
      "cell_type": "code",
      "metadata": {
        "id": "iWuel_-qnT2d",
        "colab": {
          "base_uri": "https://localhost:8080/"
        },
        "outputId": "68270d78-4017-4687-f328-9e887617a3bf"
      },
      "source": [
        "!pip install gdown"
      ],
      "execution_count": null,
      "outputs": [
        {
          "output_type": "stream",
          "name": "stdout",
          "text": [
            "Requirement already satisfied: gdown in /usr/local/lib/python3.7/dist-packages (3.6.4)\n",
            "Requirement already satisfied: requests in /usr/local/lib/python3.7/dist-packages (from gdown) (2.23.0)\n",
            "Requirement already satisfied: six in /usr/local/lib/python3.7/dist-packages (from gdown) (1.15.0)\n",
            "Requirement already satisfied: tqdm in /usr/local/lib/python3.7/dist-packages (from gdown) (4.62.0)\n",
            "Requirement already satisfied: certifi>=2017.4.17 in /usr/local/lib/python3.7/dist-packages (from requests->gdown) (2021.5.30)\n",
            "Requirement already satisfied: chardet<4,>=3.0.2 in /usr/local/lib/python3.7/dist-packages (from requests->gdown) (3.0.4)\n",
            "Requirement already satisfied: urllib3!=1.25.0,!=1.25.1,<1.26,>=1.21.1 in /usr/local/lib/python3.7/dist-packages (from requests->gdown) (1.24.3)\n",
            "Requirement already satisfied: idna<3,>=2.5 in /usr/local/lib/python3.7/dist-packages (from requests->gdown) (2.10)\n"
          ]
        }
      ]
    },
    {
      "cell_type": "code",
      "metadata": {
        "id": "sY0LT5a5naI6",
        "colab": {
          "base_uri": "https://localhost:8080/"
        },
        "outputId": "98e7ad7a-ad58-4190-bffd-4ca623115544"
      },
      "source": [
        "!gdown --id 1TL5tCHnC8PcwsoZDqZ4OIGtdPqsXo9Fg --output dptoie.zip\n",
        "!unzip dptoie.zip"
      ],
      "execution_count": null,
      "outputs": [
        {
          "output_type": "stream",
          "name": "stdout",
          "text": [
            "Downloading...\n",
            "From: https://drive.google.com/uc?id=1TL5tCHnC8PcwsoZDqZ4OIGtdPqsXo9Fg\n",
            "To: /content/dptoie.zip\n",
            "118MB [00:01, 80.1MB/s]\n",
            "Archive:  dptoie.zip\n",
            "   creating: DptOIE/\n",
            "  inflating: DptOIE/DptOIE.jar       \n",
            "   creating: DptOIE/pt-models/\n",
            "  inflating: DptOIE/pt-models/pt-pos-tagger.model  \n",
            "  inflating: DptOIE/pt-models/pt-dep-parser.gz  \n",
            "   creating: DptOIE/output/\n",
            "  inflating: DptOIE/output/tokenized_sentences  \n",
            "  inflating: DptOIE/output/output_DP.conll  \n",
            "  inflating: DptOIE/output/imput_DP.txt  \n",
            "  inflating: DptOIE/StanfordCoreNLP-pt.properties  \n"
          ]
        }
      ]
    },
    {
      "cell_type": "code",
      "metadata": {
        "id": "_ESOANQQvYqk"
      },
      "source": [
        "import glob\n",
        "import sys\n",
        "import os\n",
        "import subprocess as subp\n",
        "\n",
        "DPTOIE_PATH = '/content/DptOIE/' \n",
        "\n",
        "def run_dptoie_in(input_dir, output_dir):\n",
        "    for filepathname in glob.glob('%s*.txt' % input_dir):\n",
        "      print('Processing %s \\n' % filepathname)\n",
        "      filename = filepathname.split('.txt')[0].split(os.sep)[-1]\n",
        "      output = os.popen('cd %s; java -jar DptOIE.jar -sentencesIN %s' % (DPTOIE_PATH, filepathname)).read()\n",
        "      os.wait()\n",
        "      output_split = output.split('Índice sentença 0')\n",
        "      if len(output_split) > 1:\n",
        "        output = 'Índice sentença 0' + ''.join(output_split[1:])\n",
        "        with open('%s%s_out.txt' % (output_dir, filename), 'w') as output_file:\n",
        "          output_file.write(output)\n",
        "        subp.check_call('cd %s; cp %s %s' % (DPTOIE_PATH, 'extractedFactsByDpOIE.csv', f\"{output_dir}{filename}.csv\" ), shell=True)\n",
        "        subp.check_call('cd %s; rm %s ' % (DPTOIE_PATH, 'extractedFactsByDpOIE.csv'), shell=True)\n",
        "      \n",
        "\n"
      ],
      "execution_count": null,
      "outputs": []
    },
    {
      "cell_type": "markdown",
      "metadata": {
        "id": "72RQXbNirr36"
      },
      "source": [
        "# RUN"
      ]
    },
    {
      "cell_type": "code",
      "metadata": {
        "id": "UZf4sUEsw4im",
        "colab": {
          "base_uri": "https://localhost:8080/"
        },
        "outputId": "7529a73c-55a3-42db-e8d0-74da8a85bbe1"
      },
      "source": [
        "from google.colab import drive\n",
        "drive.mount('/content/drive')"
      ],
      "execution_count": null,
      "outputs": [
        {
          "output_type": "stream",
          "name": "stdout",
          "text": [
            "Mounted at /content/drive\n"
          ]
        }
      ]
    },
    {
      "cell_type": "code",
      "metadata": {
        "id": "4RlmFlL4n6Bi"
      },
      "source": [
        "#@title ## Input and Output directory fields\n",
        "\n",
        "#@markdown The text files in the input directory are expected to have the format:\n",
        "\n",
        "#@markdown * all text files end with the extension .txt\n",
        "#@markdown * sentences are separated by newlines\n",
        "\n",
        "\n",
        "#@markdown ---\n",
        "#@markdown ### Enter the directories paths:\n",
        "input_dir = \"/content/drive/MyDrive/input-dir/\" #@param {type:\"string\"}\n",
        "output_dir = \"/content/drive/MyDrive/output-dir/\" #@param {type:\"string\"}\n",
        "#@markdown ---\n",
        "\n",
        "run_dptoie_in(input_dir, output_dir)"
      ],
      "execution_count": null,
      "outputs": []
    }
  ]
}