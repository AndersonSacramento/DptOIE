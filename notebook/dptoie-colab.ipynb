{
  "nbformat": 4,
  "nbformat_minor": 0,
  "metadata": {
    "colab": {
      "name": "dptoie-colab.ipynb",
      "provenance": [],
      "collapsed_sections": []
    },
    "kernelspec": {
      "name": "python3",
      "display_name": "Python 3"
    },
    "language_info": {
      "name": "python"
    }
  },
  "cells": [
    {
      "cell_type": "markdown",
      "metadata": {
        "id": "asF33PECnS-v"
      },
      "source": [
        "# Download DptOIE and load function"
      ]
    },
    {
      "cell_type": "code",
      "metadata": {
        "id": "iWuel_-qnT2d"
      },
      "source": [
        "!pip install gdown"
      ],
      "execution_count": null,
      "outputs": []
    },
    {
      "cell_type": "code",
      "metadata": {
        "id": "sY0LT5a5naI6"
      },
      "source": [
        "!gdown --id 1TL5tCHnC8PcwsoZDqZ4OIGtdPqsXo9Fg --output dptoie.zip\n",
        "!unzip dptoie.zip"
      ],
      "execution_count": null,
      "outputs": []
    },
    {
      "cell_type": "code",
      "metadata": {
        "id": "_ESOANQQvYqk"
      },
      "source": [
        "import glob\n",
        "import sys\n",
        "import os\n",
        "\n",
        "DPTOIE_PATH = '/content/DptOIE/' \n",
        "\n",
        "def run_dptoie_in(input_dir, output_dir):\n",
        "    for filepathname in glob.glob('%s*.txt' % input_dir):\n",
        "      print('Processing %s \\n' % filepathname)\n",
        "      filename = filepathname.split('.txt')[0].split(os.sep)[-1]\n",
        "      output = os.popen('cd %s; java -jar DptOIE.jar -sentencesIN %s' % (DPTOIE_PATH, filepathname)).read()\n",
        "      output_split = output.split('Índice sentença 0')\n",
        "      if len(output_split) > 1:\n",
        "        output = 'Índice sentença 0' + ''.join(output_split[1:])\n",
        "        with open('%s%s_out.txt' % (output_dir, filename), 'w') as output_file:\n",
        "          output_file.write(output)\n",
        "      os.system('cd %s; cp %s %s' % (DPTOIE_PATH, 'extractedFactsByDpOIE.csv', f\"{output_dir}{filename}.csv\" ))\n"
      ],
      "execution_count": 14,
      "outputs": []
    },
    {
      "cell_type": "markdown",
      "metadata": {
        "id": "72RQXbNirr36"
      },
      "source": [
        "# RUN"
      ]
    },
    {
      "cell_type": "code",
      "metadata": {
        "id": "UZf4sUEsw4im"
      },
      "source": [
        "from google.colab import drive\n",
        "drive.mount('/content/drive')"
      ],
      "execution_count": null,
      "outputs": []
    },
    {
      "cell_type": "code",
      "metadata": {
        "id": "4RlmFlL4n6Bi"
      },
      "source": [
        "#@title ## Input and Output directory fields\n",
        "\n",
        "#@markdown The text files in the input directory are expected to have the format:\n",
        "\n",
        "#@markdown * all text files end with the extension .txt\n",
        "#@markdown * sentences are separated by newlines\n",
        "\n",
        "\n",
        "#@markdown ---\n",
        "#@markdown ### Enter the directories paths:\n",
        "input_dir = \"/content/drive/MyDrive/input-files/\" #@param {type:\"string\"}\n",
        "output_dir = \"/content/drive/MyDrive/output-files/\" #@param {type:\"string\"}\n",
        "#@markdown ---\n",
        "\n",
        "run_dptoie_in(input_dir, output_dir)"
      ],
      "execution_count": null,
      "outputs": []
    }
  ]
}